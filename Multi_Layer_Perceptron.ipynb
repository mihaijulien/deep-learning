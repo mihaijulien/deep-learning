{
  "nbformat": 4,
  "nbformat_minor": 0,
  "metadata": {
    "colab": {
      "name": "Multi Layer Perceptron.ipynb",
      "provenance": [],
      "authorship_tag": "ABX9TyPC/FuK2soMuYydariNIXP3"
    },
    "kernelspec": {
      "name": "python3",
      "display_name": "Python 3"
    },
    "language_info": {
      "name": "python"
    }
  },
  "cells": [
    {
      "cell_type": "code",
      "execution_count": 1,
      "metadata": {
        "id": "aVd5FnTK81At"
      },
      "outputs": [],
      "source": [
        "import numpy as np"
      ]
    },
    {
      "cell_type": "code",
      "source": [
        "def step(x):\n",
        "  return (x >= 0.0).astype(int)\n",
        "\n",
        "def linear(x):\n",
        "  return x"
      ],
      "metadata": {
        "id": "v_6U6nUL8419"
      },
      "execution_count": 2,
      "outputs": []
    },
    {
      "cell_type": "code",
      "source": [
        "architecture = [\n",
        "                {\n",
        "                 \"input_dim\": 2,\n",
        "                 \"units\": 4,\n",
        "                 \"activation\": \"linear\" \n",
        "                },\n",
        "                {\n",
        "                 \"input_dim\": 4,\n",
        "                 \"units\": 6,\n",
        "                 \"activation\": \"linear\" \n",
        "                },\n",
        "                {\n",
        "                 \"input_dim\": 6,\n",
        "                 \"units\": 6,\n",
        "                 \"activation\": \"linear\" \n",
        "                },\n",
        "                {\n",
        "                 \"input_dim\": 6,\n",
        "                 \"units\": 4,\n",
        "                 \"activation\": \"linear\" \n",
        "                },\n",
        "                {\n",
        "                 \"input_dim\": 4,\n",
        "                 \"units\": 1,\n",
        "                 \"activation\": \"step\" \n",
        "                }\n",
        "]"
      ],
      "metadata": {
        "id": "9orNYy209B8d"
      },
      "execution_count": 3,
      "outputs": []
    },
    {
      "cell_type": "code",
      "source": [
        "def linear(x):\n",
        "    \"\"\"\n",
        "    Functie liniara simpla care intoarce ca output input-ul\n",
        "    \"\"\"\n",
        "    return x\n",
        "\n",
        "def step(x):\n",
        "    \"\"\"\n",
        "    Functia treapta returneaza 1 pentru valori pozitive si 1 pentru cele negative\n",
        "    \"\"\"\n",
        "    \n",
        "    return (x >= 0.0).astype(int)\n",
        "\n",
        "class MLP():\n",
        "    \"\"\"\n",
        "    Varianta definire MLP cu specificare input si output pentru fiecare unitate.\n",
        "    \"\"\"\n",
        "    def __init__(self, architecture, random_seed=42):\n",
        "        np.random.seed(random_seed)\n",
        "        \n",
        "        self.activation_functions = {\n",
        "            'step': step,\n",
        "            'linear': linear\n",
        "        }\n",
        "        \n",
        "        \n",
        "        number_of_layers = len(architecture)\n",
        "        params_values = {}\n",
        "\n",
        "        for idx, layer in enumerate(architecture):\n",
        "            layer_idx = idx + 1\n",
        "            \n",
        "            layer_input_size = layer[\"input_dim\"]\n",
        "            \n",
        "            layer_output_size = layer[\"units\"]\n",
        "\n",
        "            params_values['W' + str(layer_idx)] = np.random.randn(layer_output_size, layer_input_size) * 0.1\n",
        "            \n",
        "            params_values['b' + str(layer_idx)] = np.random.randn(layer_output_size, 1) * 0.1\n",
        "            \n",
        "            \n",
        "        self.params = params_values\n",
        "        self.architecture = architecture\n",
        "        \n",
        "    def summary(self):\n",
        "        print(\"{:^15s} {:^15s} {:^15s} {:^15s} {:^15s} {:^15s} \\n\".format(\n",
        "            \"Input shape\",\n",
        "            \"Output shape\",\n",
        "            \"Weights shape\",\n",
        "            \"Bias shape\",\n",
        "            \"Activation\",\n",
        "            \"Params\"\n",
        "        ))\n",
        "        print(\"{:_<100s}\".format(''))\n",
        "        total_params = 0\n",
        "        for idx, layer in enumerate(self.architecture):\n",
        "            layer_idx = idx + 1\n",
        "            in_shape = layer[\"input_dim\"]\n",
        "            out_shape = layer[\"units\"]\n",
        "            \n",
        "            weights_shape = self.params['W' + str(layer_idx)].shape\n",
        "            bias_shape = self.params['b' + str(layer_idx)].shape\n",
        "            \n",
        "            activation = layer[\"activation\"]\n",
        "            \n",
        "            weights_params = 1\n",
        "            for dim in weights_shape:\n",
        "                weights_params *= dim\n",
        "            \n",
        "            bias_params = 1\n",
        "            for dim in bias_shape:\n",
        "                bias_params *= dim\n",
        "            \n",
        "            num_params = bias_params + weights_params\n",
        "            total_params += num_params\n",
        "            \n",
        "            print(\"{:^15d} {:^15d} {:^15s} {:^15s} {:^15s} {:^15d} \\n\".format(\n",
        "                in_shape,\n",
        "                out_shape,\n",
        "                str(weights_shape),\n",
        "                str(bias_shape),\n",
        "                activation,\n",
        "                num_params\n",
        "            ))\n",
        "            print(\"-\"*100)\n",
        "        \n",
        "        print(\"Total number of parameters: {}\".format(total_params))"
      ],
      "metadata": {
        "id": "KFT7zRFN9iYO"
      },
      "execution_count": 9,
      "outputs": []
    },
    {
      "cell_type": "code",
      "source": [
        "nn = MLP(architecture)"
      ],
      "metadata": {
        "id": "GtMecyle___F"
      },
      "execution_count": 10,
      "outputs": []
    },
    {
      "cell_type": "code",
      "source": [
        "nn.summary()"
      ],
      "metadata": {
        "colab": {
          "base_uri": "https://localhost:8080/"
        },
        "id": "x9QwcfnjAAck",
        "outputId": "c702a1ce-7030-498f-db56-bb54afed957a"
      },
      "execution_count": 11,
      "outputs": [
        {
          "output_type": "stream",
          "name": "stdout",
          "text": [
            "  Input shape    Output shape    Weights shape    Bias shape      Activation        Params      \n",
            "\n",
            "____________________________________________________________________________________________________\n",
            "       2               4            (4, 2)          (4, 1)          linear            12        \n",
            "\n",
            "----------------------------------------------------------------------------------------------------\n",
            "       4               6            (6, 4)          (6, 1)          linear            30        \n",
            "\n",
            "----------------------------------------------------------------------------------------------------\n",
            "       6               6            (6, 6)          (6, 1)          linear            42        \n",
            "\n",
            "----------------------------------------------------------------------------------------------------\n",
            "       6               4            (4, 6)          (4, 1)          linear            28        \n",
            "\n",
            "----------------------------------------------------------------------------------------------------\n",
            "       4               1            (1, 4)          (1, 1)           step              5        \n",
            "\n",
            "----------------------------------------------------------------------------------------------------\n",
            "Total number of parameters: 117\n"
          ]
        }
      ]
    }
  ]
}