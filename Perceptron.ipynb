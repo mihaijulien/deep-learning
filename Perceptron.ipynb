{
  "nbformat": 4,
  "nbformat_minor": 0,
  "metadata": {
    "colab": {
      "name": "Perceptron.ipynb",
      "provenance": [],
      "collapsed_sections": [],
      "authorship_tag": "ABX9TyMyVIcTd7DA8faSWcGR3CxB"
    },
    "kernelspec": {
      "name": "python3",
      "display_name": "Python 3"
    },
    "language_info": {
      "name": "python"
    }
  },
  "cells": [
    {
      "cell_type": "code",
      "execution_count": 1,
      "metadata": {
        "id": "oR57pGZcsedf"
      },
      "outputs": [],
      "source": [
        "import numpy as np"
      ]
    },
    {
      "cell_type": "code",
      "source": [
        "class Perceptron():\n",
        "  def __init__(self, weights, bias):\n",
        "    self.weights = weights\n",
        "    self.bias = bias\n",
        "\n",
        "  def activation(self, x):\n",
        "    return (x >= 0.0).astype(int)\n",
        "\n",
        "  def predict(self, x):\n",
        "    # x-ul reprezinta valorile de intrari iar weights.T sunt weights transpuse\n",
        "    return (self.activation(self.weights.T * x).sum(axis=1) + self.bias)"
      ],
      "metadata": {
        "id": "cDDquHgLsnZQ"
      },
      "execution_count": 2,
      "outputs": []
    },
    {
      "cell_type": "code",
      "source": [
        "x = np.random.randn(20,2)\n",
        "y = np.ones(20)\n",
        "y[:10] = 0; # primele 10 valori le facem 0\n",
        "np.random.shuffle(y)"
      ],
      "metadata": {
        "id": "EVqo3SjDuG1z"
      },
      "execution_count": 3,
      "outputs": []
    },
    {
      "cell_type": "code",
      "source": [
        "w = np.zeros((2,1))\n",
        "b = 0"
      ],
      "metadata": {
        "id": "lbLeyeviut0s"
      },
      "execution_count": 8,
      "outputs": []
    },
    {
      "cell_type": "code",
      "source": [
        "x.shape"
      ],
      "metadata": {
        "colab": {
          "base_uri": "https://localhost:8080/"
        },
        "id": "17xdebr8u4pj",
        "outputId": "2a0ccaa3-3eff-404a-bd1c-46c80eec6ae4"
      },
      "execution_count": 5,
      "outputs": [
        {
          "output_type": "execute_result",
          "data": {
            "text/plain": [
              "(20, 2)"
            ]
          },
          "metadata": {},
          "execution_count": 5
        }
      ]
    },
    {
      "cell_type": "code",
      "source": [
        "y.shape"
      ],
      "metadata": {
        "colab": {
          "base_uri": "https://localhost:8080/"
        },
        "id": "tWKFaj0Lu7d2",
        "outputId": "6d99d88f-e45e-43a2-99f1-ae2b61521ee6"
      },
      "execution_count": 6,
      "outputs": [
        {
          "output_type": "execute_result",
          "data": {
            "text/plain": [
              "(20,)"
            ]
          },
          "metadata": {},
          "execution_count": 6
        }
      ]
    },
    {
      "cell_type": "code",
      "source": [
        "w.shape"
      ],
      "metadata": {
        "colab": {
          "base_uri": "https://localhost:8080/"
        },
        "id": "9hzkTJnEu8nR",
        "outputId": "ccec8ed3-cf90-4d68-aae1-cdf051abba56"
      },
      "execution_count": 7,
      "outputs": [
        {
          "output_type": "execute_result",
          "data": {
            "text/plain": [
              "(2, 1)"
            ]
          },
          "metadata": {},
          "execution_count": 7
        }
      ]
    },
    {
      "cell_type": "code",
      "source": [
        "model = Perceptron(w, b)"
      ],
      "metadata": {
        "id": "ORAkqIeavA7l"
      },
      "execution_count": 9,
      "outputs": []
    },
    {
      "cell_type": "code",
      "source": [
        "preds = model.predict(x)"
      ],
      "metadata": {
        "id": "ZBZTBtwXvJw5"
      },
      "execution_count": 10,
      "outputs": []
    },
    {
      "cell_type": "code",
      "source": [
        "preds.shape"
      ],
      "metadata": {
        "colab": {
          "base_uri": "https://localhost:8080/"
        },
        "id": "6dwFd96XvS8m",
        "outputId": "70cab2d0-4717-4666-b488-63db532a4bd5"
      },
      "execution_count": 11,
      "outputs": [
        {
          "output_type": "execute_result",
          "data": {
            "text/plain": [
              "(20,)"
            ]
          },
          "metadata": {},
          "execution_count": 11
        }
      ]
    },
    {
      "cell_type": "code",
      "source": [
        "accuracy = (preds  == y).sum() / len(preds)"
      ],
      "metadata": {
        "id": "9HULgN0RvT2X"
      },
      "execution_count": 12,
      "outputs": []
    },
    {
      "cell_type": "code",
      "source": [
        "accuracy"
      ],
      "metadata": {
        "colab": {
          "base_uri": "https://localhost:8080/"
        },
        "id": "FjC1bADzvnpf",
        "outputId": "63d55724-d158-4eb1-8970-9fe97c45709d"
      },
      "execution_count": 13,
      "outputs": [
        {
          "output_type": "execute_result",
          "data": {
            "text/plain": [
              "0.0"
            ]
          },
          "metadata": {},
          "execution_count": 13
        }
      ]
    },
    {
      "cell_type": "code",
      "source": [
        "class Perceptron():\n",
        "  def __init__(self, weights, bias):\n",
        "    self.weights = weights\n",
        "    self.bias = bias\n",
        "\n",
        "  def activation(self, x):\n",
        "    return (x >= 0.0).astype(int)\n",
        "\n",
        "  def predict(self, x):\n",
        "    # x-ul reprezinta valorile de intrari iar weights.T sunt weights transpuse\n",
        "    return (self.activation(self.weights.T * x).sum(axis=1) + self.bias)\n",
        "\n",
        "  def train_batch(self, epochs, lr, x, y):\n",
        "    for epoch in range(epochs):\n",
        "      print(\"Fitting model for epoch {}\".format(epoch+1))\n",
        "\n",
        "      pred = self.predict(x)\n",
        "      loss = y - pred\n",
        "\n",
        "      self.bias = self.bias + lr*loss.mean()\n",
        "      self.weights = self.weights + lr * np.dot(loss, x).reshape(self.weights.shape) / len(loss)\n",
        "\n",
        "      print(\"Loss for epoch {}: {}\".format(epoch+1, np.abs(loss).mean()))\n",
        "\n",
        "# sau metoda simpla de antrenare:\n",
        "  def train(self,epochs, lr, x, y):\n",
        "    for epoch in range(epochs):\n",
        "       print(\"Fitting model for epoch {}\".format(epoch+1))\n",
        "       total_loss = 0\n",
        "\n",
        "       for i in range(len(y)):\n",
        "         pred = self.predict(x[i])\n",
        "         loss = y[i] - pred\n",
        "         total_loss += np.abs(loss)\n",
        "\n",
        "         self.bias += lr*loss\n",
        "         self.weights += lr * (loss * x[i]).reshape(self.weights.shape)\n",
        "\n",
        "       print(\"Loss for epoch {}: {}\".format(epoch+1, total_loss / len(y)))"
      ],
      "metadata": {
        "id": "zCZzurTjvptg"
      },
      "execution_count": 17,
      "outputs": []
    },
    {
      "cell_type": "code",
      "source": [
        "model = Perceptron(w, b)"
      ],
      "metadata": {
        "id": "UDd90jx7zNFK"
      },
      "execution_count": 18,
      "outputs": []
    },
    {
      "cell_type": "code",
      "source": [
        "model.train_batch(\n",
        "    epochs=5,\n",
        "    lr = 0.1,\n",
        "    x=x,\n",
        "    y=y\n",
        "    )"
      ],
      "metadata": {
        "colab": {
          "base_uri": "https://localhost:8080/"
        },
        "id": "z56iubwdzQbx",
        "outputId": "e1910a2e-7868-4e53-e396-b5313bfd85f4"
      },
      "execution_count": 19,
      "outputs": [
        {
          "output_type": "stream",
          "name": "stdout",
          "text": [
            "Fitting model for epoch 1\n",
            "Loss for epoch 1: 1.5\n",
            "Fitting model for epoch 2\n",
            "Loss for epoch 2: 0.585\n",
            "Fitting model for epoch 3\n",
            "Loss for epoch 3: 0.9\n",
            "Fitting model for epoch 4\n",
            "Loss for epoch 4: 0.9\n",
            "Fitting model for epoch 5\n",
            "Loss for epoch 5: 0.574705\n"
          ]
        }
      ]
    },
    {
      "cell_type": "code",
      "source": [
        "preds = model.predict(x)"
      ],
      "metadata": {
        "id": "85dLaJc5zgTB"
      },
      "execution_count": 20,
      "outputs": []
    },
    {
      "cell_type": "code",
      "source": [
        "acc = (preds == y).sum() / len(preds)"
      ],
      "metadata": {
        "id": "q1UJCDd1zrKh"
      },
      "execution_count": 21,
      "outputs": []
    },
    {
      "cell_type": "code",
      "source": [
        "acc"
      ],
      "metadata": {
        "colab": {
          "base_uri": "https://localhost:8080/"
        },
        "id": "SA0uNmXDzvnZ",
        "outputId": "3c22fac2-07ce-4af8-d38a-375b67ca9ea7"
      },
      "execution_count": 22,
      "outputs": [
        {
          "output_type": "execute_result",
          "data": {
            "text/plain": [
              "0.0"
            ]
          },
          "metadata": {},
          "execution_count": 22
        }
      ]
    },
    {
      "cell_type": "code",
      "source": [
        "model.train(\n",
        "    epochs=5,\n",
        "    lr = 0.1,\n",
        "    x=x,\n",
        "    y=y\n",
        "    )"
      ],
      "metadata": {
        "colab": {
          "base_uri": "https://localhost:8080/"
        },
        "id": "4T-iexUqzwQB",
        "outputId": "dd8ed960-d9d5-4713-b4c5-edf0e0cfeedd"
      },
      "execution_count": 23,
      "outputs": [
        {
          "output_type": "stream",
          "name": "stdout",
          "text": [
            "Fitting model for epoch 1\n",
            "Loss for epoch 1: [0.62420491]\n",
            "Fitting model for epoch 2\n",
            "Loss for epoch 2: [0.60820747]\n",
            "Fitting model for epoch 3\n",
            "Loss for epoch 3: [0.68047789]\n",
            "Fitting model for epoch 4\n",
            "Loss for epoch 4: [0.64747933]\n",
            "Fitting model for epoch 5\n",
            "Loss for epoch 5: [0.76614581]\n"
          ]
        }
      ]
    },
    {
      "cell_type": "code",
      "source": [
        ""
      ],
      "metadata": {
        "id": "QfBpYC1k0A0Z"
      },
      "execution_count": null,
      "outputs": []
    }
  ]
}